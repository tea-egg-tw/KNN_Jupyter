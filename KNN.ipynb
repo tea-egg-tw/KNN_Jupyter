{
 "cells": [
  {
   "cell_type": "code",
   "execution_count": 1,
   "id": "5cf23f49",
   "metadata": {},
   "outputs": [],
   "source": [
    "import numpy as np\n",
    "import pandas as pd\n",
    "import matplotlib.pyplot as plt\n",
    "from scipy.spatial.distance import pdist\n",
    "import math"
   ]
  },
  {
   "cell_type": "code",
   "execution_count": 2,
   "id": "67608b5b",
   "metadata": {
    "scrolled": true
   },
   "outputs": [
    {
     "data": {
      "text/html": [
       "<div>\n",
       "<style scoped>\n",
       "    .dataframe tbody tr th:only-of-type {\n",
       "        vertical-align: middle;\n",
       "    }\n",
       "\n",
       "    .dataframe tbody tr th {\n",
       "        vertical-align: top;\n",
       "    }\n",
       "\n",
       "    .dataframe thead th {\n",
       "        text-align: right;\n",
       "    }\n",
       "</style>\n",
       "<table border=\"1\" class=\"dataframe\">\n",
       "  <thead>\n",
       "    <tr style=\"text-align: right;\">\n",
       "      <th></th>\n",
       "      <th>num</th>\n",
       "      <th>temp</th>\n",
       "      <th>humid</th>\n",
       "      <th>bake</th>\n",
       "      <th>buy</th>\n",
       "      <th>delivery</th>\n",
       "      <th>rate</th>\n",
       "    </tr>\n",
       "  </thead>\n",
       "  <tbody>\n",
       "    <tr>\n",
       "      <th>0</th>\n",
       "      <td>1</td>\n",
       "      <td>123</td>\n",
       "      <td>23</td>\n",
       "      <td>0</td>\n",
       "      <td>0</td>\n",
       "      <td>0</td>\n",
       "      <td>1</td>\n",
       "    </tr>\n",
       "    <tr>\n",
       "      <th>1</th>\n",
       "      <td>2</td>\n",
       "      <td>126</td>\n",
       "      <td>23</td>\n",
       "      <td>1</td>\n",
       "      <td>1</td>\n",
       "      <td>1</td>\n",
       "      <td>0</td>\n",
       "    </tr>\n",
       "    <tr>\n",
       "      <th>2</th>\n",
       "      <td>3</td>\n",
       "      <td>124</td>\n",
       "      <td>25</td>\n",
       "      <td>1</td>\n",
       "      <td>0</td>\n",
       "      <td>1</td>\n",
       "      <td>0</td>\n",
       "    </tr>\n",
       "    <tr>\n",
       "      <th>3</th>\n",
       "      <td>4</td>\n",
       "      <td>122</td>\n",
       "      <td>23</td>\n",
       "      <td>0</td>\n",
       "      <td>0</td>\n",
       "      <td>0</td>\n",
       "      <td>1</td>\n",
       "    </tr>\n",
       "    <tr>\n",
       "      <th>4</th>\n",
       "      <td>5</td>\n",
       "      <td>124</td>\n",
       "      <td>26</td>\n",
       "      <td>1</td>\n",
       "      <td>0</td>\n",
       "      <td>1</td>\n",
       "      <td>0</td>\n",
       "    </tr>\n",
       "  </tbody>\n",
       "</table>\n",
       "</div>"
      ],
      "text/plain": [
       "   num  temp  humid  bake  buy  delivery  rate\n",
       "0    1   123     23     0    0         0     1\n",
       "1    2   126     23     1    1         1     0\n",
       "2    3   124     25     1    0         1     0\n",
       "3    4   122     23     0    0         0     1\n",
       "4    5   124     26     1    0         1     0"
      ]
     },
     "execution_count": 2,
     "metadata": {},
     "output_type": "execute_result"
    }
   ],
   "source": [
    "#將資料整理為csv檔，方便日後整理與修改\n",
    "df = pd.read_csv('KNN.csv',encoding='utf-8')    #匯入檔案\n",
    "df.head()                                       #列出資料表頭"
   ]
  },
  {
   "cell_type": "code",
   "execution_count": 3,
   "id": "771c073e",
   "metadata": {},
   "outputs": [
    {
     "data": {
      "text/plain": [
       "Index(['num', 'temp', 'humid', 'bake', 'buy', 'delivery', 'rate'], dtype='object')"
      ]
     },
     "execution_count": 3,
     "metadata": {},
     "output_type": "execute_result"
    }
   ],
   "source": [
    "df.columns  #利用函式取得列標籤"
   ]
  },
  {
   "cell_type": "code",
   "execution_count": 4,
   "id": "41a44d4e",
   "metadata": {},
   "outputs": [
    {
     "data": {
      "text/html": [
       "<div>\n",
       "<style scoped>\n",
       "    .dataframe tbody tr th:only-of-type {\n",
       "        vertical-align: middle;\n",
       "    }\n",
       "\n",
       "    .dataframe tbody tr th {\n",
       "        vertical-align: top;\n",
       "    }\n",
       "\n",
       "    .dataframe thead th {\n",
       "        text-align: right;\n",
       "    }\n",
       "</style>\n",
       "<table border=\"1\" class=\"dataframe\">\n",
       "  <thead>\n",
       "    <tr style=\"text-align: right;\">\n",
       "      <th></th>\n",
       "      <th>temp</th>\n",
       "      <th>humid</th>\n",
       "      <th>rate</th>\n",
       "    </tr>\n",
       "  </thead>\n",
       "  <tbody>\n",
       "    <tr>\n",
       "      <th>0</th>\n",
       "      <td>123</td>\n",
       "      <td>23</td>\n",
       "      <td>1</td>\n",
       "    </tr>\n",
       "    <tr>\n",
       "      <th>1</th>\n",
       "      <td>126</td>\n",
       "      <td>23</td>\n",
       "      <td>0</td>\n",
       "    </tr>\n",
       "    <tr>\n",
       "      <th>2</th>\n",
       "      <td>124</td>\n",
       "      <td>25</td>\n",
       "      <td>0</td>\n",
       "    </tr>\n",
       "    <tr>\n",
       "      <th>3</th>\n",
       "      <td>122</td>\n",
       "      <td>23</td>\n",
       "      <td>1</td>\n",
       "    </tr>\n",
       "    <tr>\n",
       "      <th>4</th>\n",
       "      <td>124</td>\n",
       "      <td>26</td>\n",
       "      <td>0</td>\n",
       "    </tr>\n",
       "    <tr>\n",
       "      <th>5</th>\n",
       "      <td>124</td>\n",
       "      <td>22</td>\n",
       "      <td>1</td>\n",
       "    </tr>\n",
       "  </tbody>\n",
       "</table>\n",
       "</div>"
      ],
      "text/plain": [
       "   temp  humid  rate\n",
       "0   123     23     1\n",
       "1   126     23     0\n",
       "2   124     25     0\n",
       "3   122     23     1\n",
       "4   124     26     0\n",
       "5   124     22     1"
      ]
     },
     "execution_count": 4,
     "metadata": {},
     "output_type": "execute_result"
    }
   ],
   "source": [
    "df = df[['temp','humid','rate']]    #取出要用的資料\n",
    "df                                  #資料預覽"
   ]
  },
  {
   "cell_type": "code",
   "execution_count": 5,
   "id": "33ba58c0",
   "metadata": {},
   "outputs": [
    {
     "data": {
      "text/plain": [
       "<matplotlib.collections.PathCollection at 0x1c8a5c44250>"
      ]
     },
     "execution_count": 5,
     "metadata": {},
     "output_type": "execute_result"
    },
    {
     "data": {
      "image/png": "[encoded data removed]",
      "text/plain": [
       "<Figure size 504x360 with 1 Axes>"
      ]
     },
     "metadata": {
      "needs_background": "light"
     },
     "output_type": "display_data"
    }
   ],
   "source": [
    "# 資料圖像化\n",
    "\n",
    "\n",
    "plt.figure(figsize=(7,5))                                       #顯示圖框架大小\n",
    "\n",
    "plt.style.use(\"ggplot\")                                         #使用ggplot主題樣式\n",
    "plt.xlabel(\"temp\", fontweight = \"bold\")                         #設定x座標標題及粗體\n",
    "plt.ylabel(\"humid(%)\", fontweight = \"bold\")                     #設定y座標標題及粗體\n",
    "plt.title(\"Pizza sales\", fontsize = 15, fontweight = \"bold\")    #設定標題、字大小及粗體\n",
    "\n",
    "plt.scatter(df[\"temp\"],             # x軸資料\n",
    "            df[\"humid\"],            # y軸資料\n",
    "            c = \"m\",                # 點顏色\n",
    "            s = 50,                 # 點大小\n",
    "            alpha = .5,             # 透明度\n",
    "            marker = \"D\")           # 菱形圖示"
   ]
  },
  {
   "cell_type": "code",
   "execution_count": 6,
   "id": "05d62711",
   "metadata": {},
   "outputs": [],
   "source": [
    "\n",
    "nparray = np.array(df)          #資料由全部轉換為個別陣列\n",
    "p0 = np.array(nparray[0,:])\n",
    "p1 = np.array(nparray[1,:])\n",
    "p2 = np.array(nparray[2,:])\n",
    "p3 = np.array(nparray[3,:])\n",
    "p4 = np.array(nparray[4,:])\n",
    "p5 = np.array(nparray[5,:])\n",
    "un = [127,23]"
   ]
  },
  {
   "cell_type": "code",
   "execution_count": 7,
   "id": "abd04722",
   "metadata": {},
   "outputs": [
    {
     "name": "stdout",
     "output_type": "stream",
     "text": [
      "( 123 , 23 )\n",
      "( 126 , 23 )\n",
      "( 124 , 25 )\n",
      "( 122 , 23 )\n",
      "( 124 , 26 )\n",
      "( 124 , 22 )\n",
      "( 127 , 23 )\n",
      "Distance = 4.0000\n",
      "Distance = 1.0000\n",
      "Distance = 3.6056\n",
      "Distance = 5.0000\n",
      "Distance = 4.2426\n",
      "Distance = 3.1623\n",
      "[4.0, 1.0, 3.605551275463989, 5.0, 4.242640687119285, 3.1622776601683795]\n"
     ]
    }
   ],
   "source": [
    "# 距離計算 利用畢氏定理算距離\n",
    "\n",
    "x0=eval(str(p0[0]))\n",
    "y0=eval(str(p0[1]))\n",
    "\n",
    "x1=eval(str(p1[0]))\n",
    "y1=eval(str(p1[1]))\n",
    "\n",
    "x2=eval(str(p2[0]))\n",
    "y2=eval(str(p2[1]))\n",
    "\n",
    "x3=eval(str(p3[0]))\n",
    "y3=eval(str(p3[1]))\n",
    "\n",
    "x4=eval(str(p4[0]))\n",
    "y4=eval(str(p4[1]))\n",
    "\n",
    "x5=eval(str(p5[0]))\n",
    "y5=eval(str(p5[1]))\n",
    "\n",
    "unx=eval(str(un[0]))\n",
    "uny=eval(str(un[1]))\n",
    "\n",
    "Dis0=math.sqrt((x0-unx)**2+(y0-uny)**2)\n",
    "Dis1=math.sqrt((x1-unx)**2+(y1-uny)**2)\n",
    "Dis2=math.sqrt((x2-unx)**2+(y2-uny)**2)\n",
    "Dis3=math.sqrt((x3-unx)**2+(y3-uny)**2)\n",
    "Dis4=math.sqrt((x4-unx)**2+(y4-uny)**2)\n",
    "Dis5=math.sqrt((x5-unx)**2+(y5-uny)**2)\n",
    "\n",
    "print(\"(\",x0,\",\",y0,\")\")\n",
    "print(\"(\",x1,\",\",y1,\")\")\n",
    "print(\"(\",x2,\",\",y2,\")\")\n",
    "print(\"(\",x3,\",\",y3,\")\")\n",
    "print(\"(\",x4,\",\",y4,\")\")\n",
    "print(\"(\",x5,\",\",y5,\")\")\n",
    "print(\"(\",unx,\",\",uny,\")\")\n",
    "print(\"Distance = {:.4f}\".format(Dis0))\n",
    "print(\"Distance = {:.4f}\".format(Dis1))\n",
    "print(\"Distance = {:.4f}\".format(Dis2))\n",
    "print(\"Distance = {:.4f}\".format(Dis3))\n",
    "print(\"Distance = {:.4f}\".format(Dis4))\n",
    "print(\"Distance = {:.4f}\".format(Dis5))\n",
    "dis = [Dis0,Dis1,Dis2,Dis3,Dis4,Dis5]\n",
    "min_index = np.argmin(dis)\n",
    "print(dis)\n"
   ]
  },
  {
   "cell_type": "code",
   "execution_count": 8,
   "id": "d7018e77",
   "metadata": {},
   "outputs": [
    {
     "data": {
      "text/html": [
       "<div>\n",
       "<style scoped>\n",
       "    .dataframe tbody tr th:only-of-type {\n",
       "        vertical-align: middle;\n",
       "    }\n",
       "\n",
       "    .dataframe tbody tr th {\n",
       "        vertical-align: top;\n",
       "    }\n",
       "\n",
       "    .dataframe thead th {\n",
       "        text-align: right;\n",
       "    }\n",
       "</style>\n",
       "<table border=\"1\" class=\"dataframe\">\n",
       "  <thead>\n",
       "    <tr style=\"text-align: right;\">\n",
       "      <th></th>\n",
       "      <th>temp</th>\n",
       "      <th>humid</th>\n",
       "      <th>rate</th>\n",
       "      <th>distance</th>\n",
       "    </tr>\n",
       "  </thead>\n",
       "  <tbody>\n",
       "    <tr>\n",
       "      <th>0</th>\n",
       "      <td>123</td>\n",
       "      <td>23</td>\n",
       "      <td>1</td>\n",
       "      <td>4.000000</td>\n",
       "    </tr>\n",
       "    <tr>\n",
       "      <th>1</th>\n",
       "      <td>126</td>\n",
       "      <td>23</td>\n",
       "      <td>0</td>\n",
       "      <td>1.000000</td>\n",
       "    </tr>\n",
       "    <tr>\n",
       "      <th>2</th>\n",
       "      <td>124</td>\n",
       "      <td>25</td>\n",
       "      <td>0</td>\n",
       "      <td>3.605551</td>\n",
       "    </tr>\n",
       "    <tr>\n",
       "      <th>3</th>\n",
       "      <td>122</td>\n",
       "      <td>23</td>\n",
       "      <td>1</td>\n",
       "      <td>5.000000</td>\n",
       "    </tr>\n",
       "    <tr>\n",
       "      <th>4</th>\n",
       "      <td>124</td>\n",
       "      <td>26</td>\n",
       "      <td>0</td>\n",
       "      <td>4.242641</td>\n",
       "    </tr>\n",
       "    <tr>\n",
       "      <th>5</th>\n",
       "      <td>124</td>\n",
       "      <td>22</td>\n",
       "      <td>1</td>\n",
       "      <td>3.162278</td>\n",
       "    </tr>\n",
       "  </tbody>\n",
       "</table>\n",
       "</div>"
      ],
      "text/plain": [
       "   temp  humid  rate  distance\n",
       "0   123     23     1  4.000000\n",
       "1   126     23     0  1.000000\n",
       "2   124     25     0  3.605551\n",
       "3   122     23     1  5.000000\n",
       "4   124     26     0  4.242641\n",
       "5   124     22     1  3.162278"
      ]
     },
     "execution_count": 8,
     "metadata": {},
     "output_type": "execute_result"
    }
   ],
   "source": [
    "df['distance'] = dis    #合併距離至資料內\n",
    "df"
   ]
  },
  {
   "cell_type": "code",
   "execution_count": 22,
   "id": "fc10d6f9",
   "metadata": {},
   "outputs": [
    {
     "name": "stdout",
     "output_type": "stream",
     "text": [
      "input the K value:\n"
     ]
    }
   ],
   "source": [
    "# 蒐集使用者輸入的K值\n",
    "\n",
    "df_sorted = df.sort_values(by='distance')\n",
    "while True:\n",
    "    print(\"input the K value:\")\n",
    "    k = int(input())\n",
    "    if k > 0:\n",
    "        break\n",
    "\n",
    "\n",
    "df_final = df_sorted.head(k)"
   ]
  },
  {
   "cell_type": "code",
   "execution_count": 23,
   "id": "622ceddb",
   "metadata": {},
   "outputs": [],
   "source": [
    "bad, good = df_final['rate'].value_counts()[0], df_final['rate'].value_counts()[1]  #計算好壞或無法分辨"
   ]
  },
  {
   "cell_type": "code",
   "execution_count": 24,
   "id": "ea583b0a",
   "metadata": {},
   "outputs": [
    {
     "name": "stdout",
     "output_type": "stream",
     "text": [
      "bad\n"
     ]
    }
   ],
   "source": [
    "# 輸出結果\n",
    "\n",
    "if bad > good:\n",
    "    print(\"bad\")\n",
    "elif bad < good:\n",
    "    print(\"good\")\n",
    "else:\n",
    "    print(\"tie\")"
   ]
  },
  {
   "cell_type": "code",
   "execution_count": null,
   "id": "c4895d08",
   "metadata": {},
   "outputs": [],
   "source": []
  }
 ],
 "metadata": {
  "kernelspec": {
   "display_name": "Python 3 (ipykernel)",
   "language": "python",
   "name": "python3"
  },
  "language_info": {
   "codemirror_mode": {
    "name": "ipython",
    "version": 3
   },
   "file_extension": ".py",
   "mimetype": "text/x-python",
   "name": "python",
   "nbconvert_exporter": "python",
   "pygments_lexer": "ipython3",
   "version": "3.9.7"
  }
 },
 "nbformat": 4,
 "nbformat_minor": 5
}
