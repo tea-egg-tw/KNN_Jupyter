{
 "cells": [
  {
   "cell_type": "code",
   "execution_count": 81,
   "id": "5cf23f49",
   "metadata": {},
   "outputs": [],
   "source": [
    "from sklearn import datasets\n",
    "import numpy as np\n",
    "import pandas as pd\n",
    "import matplotlib.pyplot as plt\n",
    "from scipy.spatial.distance import pdist\n",
    "import math"
   ]
  },
  {
   "cell_type": "code",
   "execution_count": 6,
   "id": "67608b5b",
   "metadata": {
    "scrolled": true
   },
   "outputs": [
    {
     "data": {
      "text/html": [
       "<div>\n",
       "<style scoped>\n",
       "    .dataframe tbody tr th:only-of-type {\n",
       "        vertical-align: middle;\n",
       "    }\n",
       "\n",
       "    .dataframe tbody tr th {\n",
       "        vertical-align: top;\n",
       "    }\n",
       "\n",
       "    .dataframe thead th {\n",
       "        text-align: right;\n",
       "    }\n",
       "</style>\n",
       "<table border=\"1\" class=\"dataframe\">\n",
       "  <thead>\n",
       "    <tr style=\"text-align: right;\">\n",
       "      <th></th>\n",
       "      <th>num</th>\n",
       "      <th>temp</th>\n",
       "      <th>humid</th>\n",
       "      <th>bake</th>\n",
       "      <th>buy</th>\n",
       "      <th>delivery</th>\n",
       "      <th>rate</th>\n",
       "    </tr>\n",
       "  </thead>\n",
       "  <tbody>\n",
       "    <tr>\n",
       "      <th>0</th>\n",
       "      <td>1</td>\n",
       "      <td>123</td>\n",
       "      <td>23</td>\n",
       "      <td>0</td>\n",
       "      <td>0</td>\n",
       "      <td>0</td>\n",
       "      <td>1</td>\n",
       "    </tr>\n",
       "    <tr>\n",
       "      <th>1</th>\n",
       "      <td>2</td>\n",
       "      <td>126</td>\n",
       "      <td>23</td>\n",
       "      <td>1</td>\n",
       "      <td>1</td>\n",
       "      <td>1</td>\n",
       "      <td>0</td>\n",
       "    </tr>\n",
       "    <tr>\n",
       "      <th>2</th>\n",
       "      <td>3</td>\n",
       "      <td>124</td>\n",
       "      <td>25</td>\n",
       "      <td>1</td>\n",
       "      <td>0</td>\n",
       "      <td>1</td>\n",
       "      <td>0</td>\n",
       "    </tr>\n",
       "    <tr>\n",
       "      <th>3</th>\n",
       "      <td>4</td>\n",
       "      <td>122</td>\n",
       "      <td>23</td>\n",
       "      <td>0</td>\n",
       "      <td>0</td>\n",
       "      <td>0</td>\n",
       "      <td>1</td>\n",
       "    </tr>\n",
       "    <tr>\n",
       "      <th>4</th>\n",
       "      <td>5</td>\n",
       "      <td>124</td>\n",
       "      <td>26</td>\n",
       "      <td>1</td>\n",
       "      <td>0</td>\n",
       "      <td>1</td>\n",
       "      <td>0</td>\n",
       "    </tr>\n",
       "  </tbody>\n",
       "</table>\n",
       "</div>"
      ],
      "text/plain": [
       "   num  temp  humid  bake  buy  delivery  rate\n",
       "0    1   123     23     0    0         0     1\n",
       "1    2   126     23     1    1         1     0\n",
       "2    3   124     25     1    0         1     0\n",
       "3    4   122     23     0    0         0     1\n",
       "4    5   124     26     1    0         1     0"
      ]
     },
     "execution_count": 6,
     "metadata": {},
     "output_type": "execute_result"
    }
   ],
   "source": [
    "df = pd.read_csv('KNN.csv',encoding='utf-8')\n",
    "df.head()"
   ]
  },
  {
   "cell_type": "code",
   "execution_count": 7,
   "id": "771c073e",
   "metadata": {},
   "outputs": [
    {
     "data": {
      "text/plain": [
       "Index(['num', 'temp', 'humid', 'bake', 'buy', 'delivery', 'rate'], dtype='object')"
      ]
     },
     "execution_count": 7,
     "metadata": {},
     "output_type": "execute_result"
    }
   ],
   "source": [
    "df.columns"
   ]
  },
  {
   "cell_type": "code",
   "execution_count": 8,
   "id": "41a44d4e",
   "metadata": {},
   "outputs": [
    {
     "data": {
      "text/html": [
       "<div>\n",
       "<style scoped>\n",
       "    .dataframe tbody tr th:only-of-type {\n",
       "        vertical-align: middle;\n",
       "    }\n",
       "\n",
       "    .dataframe tbody tr th {\n",
       "        vertical-align: top;\n",
       "    }\n",
       "\n",
       "    .dataframe thead th {\n",
       "        text-align: right;\n",
       "    }\n",
       "</style>\n",
       "<table border=\"1\" class=\"dataframe\">\n",
       "  <thead>\n",
       "    <tr style=\"text-align: right;\">\n",
       "      <th></th>\n",
       "      <th>temp</th>\n",
       "      <th>humid</th>\n",
       "    </tr>\n",
       "  </thead>\n",
       "  <tbody>\n",
       "    <tr>\n",
       "      <th>0</th>\n",
       "      <td>123</td>\n",
       "      <td>23</td>\n",
       "    </tr>\n",
       "    <tr>\n",
       "      <th>1</th>\n",
       "      <td>126</td>\n",
       "      <td>23</td>\n",
       "    </tr>\n",
       "    <tr>\n",
       "      <th>2</th>\n",
       "      <td>124</td>\n",
       "      <td>25</td>\n",
       "    </tr>\n",
       "    <tr>\n",
       "      <th>3</th>\n",
       "      <td>122</td>\n",
       "      <td>23</td>\n",
       "    </tr>\n",
       "    <tr>\n",
       "      <th>4</th>\n",
       "      <td>124</td>\n",
       "      <td>26</td>\n",
       "    </tr>\n",
       "    <tr>\n",
       "      <th>5</th>\n",
       "      <td>124</td>\n",
       "      <td>22</td>\n",
       "    </tr>\n",
       "  </tbody>\n",
       "</table>\n",
       "</div>"
      ],
      "text/plain": [
       "   temp  humid\n",
       "0   123     23\n",
       "1   126     23\n",
       "2   124     25\n",
       "3   122     23\n",
       "4   124     26\n",
       "5   124     22"
      ]
     },
     "execution_count": 8,
     "metadata": {},
     "output_type": "execute_result"
    }
   ],
   "source": [
    "df = df[['temp','humid']]\n",
    "df"
   ]
  },
  {
   "cell_type": "code",
   "execution_count": 72,
   "id": "33ba58c0",
   "metadata": {},
   "outputs": [
    {
     "data": {
      "text/plain": [
       "<matplotlib.collections.PathCollection at 0x14e378791f0>"
      ]
     },
     "execution_count": 72,
     "metadata": {},
     "output_type": "execute_result"
    },
    {
     "data": {
      "image/png": "[encoded data removed]",
      "text/plain": [
       "<Figure size 504x360 with 1 Axes>"
      ]
     },
     "metadata": {},
     "output_type": "display_data"
    }
   ],
   "source": [
    "plt.figure(figsize=(7,5))   # 顯示圖框架大小\n",
    "\n",
    "plt.style.use(\"ggplot\")     # 使用ggplot主題樣式\n",
    "plt.xlabel(\"temp\", fontweight = \"bold\")                  #設定x座標標題及粗體\n",
    "plt.ylabel(\"humid(%)\", fontweight = \"bold\")   #設定y座標標題及粗體\n",
    "plt.title(\"Pizza sales\",\n",
    "          fontsize = 15, fontweight = \"bold\")        #設定標題、字大小及粗體\n",
    "\n",
    "plt.scatter(df[\"temp\"],                    # x軸資料\n",
    "            df[\"humid\"],     # y軸資料\n",
    "            c = \"m\",                                  # 點顏色\n",
    "            s = 50,                                   # 點大小\n",
    "            alpha = .5,                               # 透明度\n",
    "            marker = \"D\") "
   ]
  },
  {
   "cell_type": "code",
   "execution_count": 70,
   "id": "05d62711",
   "metadata": {},
   "outputs": [],
   "source": [
    "\n",
    "nparray = np.array(df)\n",
    "p0 = np.array(nparray[0,:])\n",
    "p1 = np.array(nparray[1,:])\n",
    "p2 = np.array(nparray[2,:])\n",
    "p3 = np.array(nparray[3,:])\n",
    "p4 = np.array(nparray[4,:])\n",
    "p5 = np.array(nparray[5,:])\n",
    "un = [127,23]"
   ]
  },
  {
   "cell_type": "code",
   "execution_count": 87,
   "id": "abd04722",
   "metadata": {},
   "outputs": [
    {
     "name": "stdout",
     "output_type": "stream",
     "text": [
      "( 123 , 23 )\n",
      "( 126 , 23 )\n",
      "( 124 , 25 )\n",
      "( 122 , 23 )\n",
      "( 124 , 26 )\n",
      "( 124 , 22 )\n",
      "( 127 , 23 )\n",
      "Distance = 4.0000\n",
      "Distance = 1.0000\n",
      "Distance = 3.6056\n",
      "Distance = 5.0000\n",
      "Distance = 4.2426\n",
      "Distance = 3.1623\n",
      "1\n"
     ]
    }
   ],
   "source": [
    "x0=eval(str(p0[0]))\n",
    "y0=eval(str(p0[1]))\n",
    "\n",
    "x1=eval(str(p1[0]))\n",
    "y1=eval(str(p1[1]))\n",
    "\n",
    "x2=eval(str(p2[0]))\n",
    "y2=eval(str(p2[1]))\n",
    "\n",
    "x3=eval(str(p3[0]))\n",
    "y3=eval(str(p3[1]))\n",
    "\n",
    "x4=eval(str(p4[0]))\n",
    "y4=eval(str(p4[1]))\n",
    "\n",
    "x5=eval(str(p5[0]))\n",
    "y5=eval(str(p5[1]))\n",
    "\n",
    "unx=eval(str(un[0]))\n",
    "uny=eval(str(un[1]))\n",
    "\n",
    "Dis0=math.sqrt((x0-unx)**2+(y0-uny)**2)\n",
    "Dis1=math.sqrt((x1-unx)**2+(y1-uny)**2)\n",
    "Dis2=math.sqrt((x2-unx)**2+(y2-uny)**2)\n",
    "Dis3=math.sqrt((x3-unx)**2+(y3-uny)**2)\n",
    "Dis4=math.sqrt((x4-unx)**2+(y4-uny)**2)\n",
    "Dis5=math.sqrt((x5-unx)**2+(y5-uny)**2)\n",
    "\n",
    "print(\"(\",x0,\",\",y0,\")\")\n",
    "print(\"(\",x1,\",\",y1,\")\")\n",
    "print(\"(\",x2,\",\",y2,\")\")\n",
    "print(\"(\",x3,\",\",y3,\")\")\n",
    "print(\"(\",x4,\",\",y4,\")\")\n",
    "print(\"(\",x5,\",\",y5,\")\")\n",
    "print(\"(\",unx,\",\",uny,\")\")\n",
    "print(\"Distance = {:.4f}\".format(Dis0))\n",
    "print(\"Distance = {:.4f}\".format(Dis1))\n",
    "print(\"Distance = {:.4f}\".format(Dis2))\n",
    "print(\"Distance = {:.4f}\".format(Dis3))\n",
    "print(\"Distance = {:.4f}\".format(Dis4))\n",
    "print(\"Distance = {:.4f}\".format(Dis5))\n",
    "dis = [Dis0,Dis1,Dis2,Dis3,Dis4,Dis5]\n",
    "min_index = np.argmin(dis)\n",
    "print(min_index)\n"
   ]
  },
  {
   "cell_type": "code",
   "execution_count": 16,
   "id": "163caf6d",
   "metadata": {},
   "outputs": [
    {
     "name": "stdout",
     "output_type": "stream",
     "text": [
      "y 0    23\n",
      "1    23\n",
      "2    25\n",
      "3    23\n",
      "4    26\n",
      "5    22\n",
      "Name: humid, dtype: int64\n",
      "dist1 0.0016919924017959609\n",
      "dist2 [0.00169199]\n"
     ]
    }
   ],
   "source": [
    "# solution1\n",
    "dist1 = 1 - np.dot(x,y)/(np.linalg.norm(x)*np.linalg.norm(y))\n",
    "\n",
    "# solution2\n",
    "dist2 = pdist(np.vstack([x,y]),'cosine')\n",
    "\n",
    "print('x',x)\n",
    "print('y',y)\n",
    "print('dist1',dist1)\n",
    "print('dist2',dist2)"
   ]
  },
  {
   "cell_type": "code",
   "execution_count": 19,
   "id": "38202417",
   "metadata": {},
   "outputs": [
    {
     "ename": "UFuncTypeError",
     "evalue": "ufunc 'multiply' did not contain a loop with signature matching types (dtype('<U5'), dtype('<U5')) -> dtype('<U5')",
     "output_type": "error",
     "traceback": [
      "\u001b[1;31m---------------------------------------------------------------------------\u001b[0m",
      "\u001b[1;31mUFuncTypeError\u001b[0m                            Traceback (most recent call last)",
      "\u001b[1;32m~\\AppData\\Local\\Temp/ipykernel_19936/581224844.py\u001b[0m in \u001b[0;36m<module>\u001b[1;34m\u001b[0m\n\u001b[0;32m      2\u001b[0m \u001b[0mList1\u001b[0m \u001b[1;33m=\u001b[0m \u001b[1;33m[\u001b[0m\u001b[1;34m'temp'\u001b[0m\u001b[1;33m]\u001b[0m\u001b[1;33m\u001b[0m\u001b[1;33m\u001b[0m\u001b[0m\n\u001b[0;32m      3\u001b[0m \u001b[0mList2\u001b[0m \u001b[1;33m=\u001b[0m \u001b[1;33m[\u001b[0m\u001b[1;34m'humid'\u001b[0m\u001b[1;33m]\u001b[0m\u001b[1;33m\u001b[0m\u001b[1;33m\u001b[0m\u001b[0m\n\u001b[1;32m----> 4\u001b[1;33m \u001b[0mresult\u001b[0m \u001b[1;33m=\u001b[0m \u001b[1;36m1\u001b[0m \u001b[1;33m-\u001b[0m \u001b[0mspatial\u001b[0m\u001b[1;33m.\u001b[0m\u001b[0mdistance\u001b[0m\u001b[1;33m.\u001b[0m\u001b[0mcosine\u001b[0m\u001b[1;33m(\u001b[0m\u001b[0mList1\u001b[0m\u001b[1;33m,\u001b[0m \u001b[0mList2\u001b[0m\u001b[1;33m)\u001b[0m\u001b[1;33m\u001b[0m\u001b[1;33m\u001b[0m\u001b[0m\n\u001b[0m\u001b[0;32m      5\u001b[0m \u001b[0mprint\u001b[0m\u001b[1;33m(\u001b[0m\u001b[0mresult\u001b[0m\u001b[1;33m)\u001b[0m\u001b[1;33m\u001b[0m\u001b[1;33m\u001b[0m\u001b[0m\n",
      "\u001b[1;32mD:\\userhjj\\anaconda\\lib\\site-packages\\scipy\\spatial\\distance.py\u001b[0m in \u001b[0;36mcosine\u001b[1;34m(u, v, w)\u001b[0m\n\u001b[0;32m    745\u001b[0m     \u001b[1;31m#   or 'reflective correlation'\u001b[0m\u001b[1;33m\u001b[0m\u001b[1;33m\u001b[0m\u001b[0m\n\u001b[0;32m    746\u001b[0m     \u001b[1;31m# clamp the result to 0-2\u001b[0m\u001b[1;33m\u001b[0m\u001b[1;33m\u001b[0m\u001b[0m\n\u001b[1;32m--> 747\u001b[1;33m     \u001b[1;32mreturn\u001b[0m \u001b[0mmax\u001b[0m\u001b[1;33m(\u001b[0m\u001b[1;36m0\u001b[0m\u001b[1;33m,\u001b[0m \u001b[0mmin\u001b[0m\u001b[1;33m(\u001b[0m\u001b[0mcorrelation\u001b[0m\u001b[1;33m(\u001b[0m\u001b[0mu\u001b[0m\u001b[1;33m,\u001b[0m \u001b[0mv\u001b[0m\u001b[1;33m,\u001b[0m \u001b[0mw\u001b[0m\u001b[1;33m=\u001b[0m\u001b[0mw\u001b[0m\u001b[1;33m,\u001b[0m \u001b[0mcentered\u001b[0m\u001b[1;33m=\u001b[0m\u001b[1;32mFalse\u001b[0m\u001b[1;33m)\u001b[0m\u001b[1;33m,\u001b[0m \u001b[1;36m2.0\u001b[0m\u001b[1;33m)\u001b[0m\u001b[1;33m)\u001b[0m\u001b[1;33m\u001b[0m\u001b[1;33m\u001b[0m\u001b[0m\n\u001b[0m\u001b[0;32m    748\u001b[0m \u001b[1;33m\u001b[0m\u001b[0m\n\u001b[0;32m    749\u001b[0m \u001b[1;33m\u001b[0m\u001b[0m\n",
      "\u001b[1;32mD:\\userhjj\\anaconda\\lib\\site-packages\\scipy\\spatial\\distance.py\u001b[0m in \u001b[0;36mcorrelation\u001b[1;34m(u, v, w, centered)\u001b[0m\n\u001b[0;32m    694\u001b[0m         \u001b[0mu\u001b[0m \u001b[1;33m=\u001b[0m \u001b[0mu\u001b[0m \u001b[1;33m-\u001b[0m \u001b[0mumu\u001b[0m\u001b[1;33m\u001b[0m\u001b[1;33m\u001b[0m\u001b[0m\n\u001b[0;32m    695\u001b[0m         \u001b[0mv\u001b[0m \u001b[1;33m=\u001b[0m \u001b[0mv\u001b[0m \u001b[1;33m-\u001b[0m \u001b[0mvmu\u001b[0m\u001b[1;33m\u001b[0m\u001b[1;33m\u001b[0m\u001b[0m\n\u001b[1;32m--> 696\u001b[1;33m     \u001b[0muv\u001b[0m \u001b[1;33m=\u001b[0m \u001b[0mnp\u001b[0m\u001b[1;33m.\u001b[0m\u001b[0maverage\u001b[0m\u001b[1;33m(\u001b[0m\u001b[0mu\u001b[0m \u001b[1;33m*\u001b[0m \u001b[0mv\u001b[0m\u001b[1;33m,\u001b[0m \u001b[0mweights\u001b[0m\u001b[1;33m=\u001b[0m\u001b[0mw\u001b[0m\u001b[1;33m)\u001b[0m\u001b[1;33m\u001b[0m\u001b[1;33m\u001b[0m\u001b[0m\n\u001b[0m\u001b[0;32m    697\u001b[0m     \u001b[0muu\u001b[0m \u001b[1;33m=\u001b[0m \u001b[0mnp\u001b[0m\u001b[1;33m.\u001b[0m\u001b[0maverage\u001b[0m\u001b[1;33m(\u001b[0m\u001b[0mnp\u001b[0m\u001b[1;33m.\u001b[0m\u001b[0msquare\u001b[0m\u001b[1;33m(\u001b[0m\u001b[0mu\u001b[0m\u001b[1;33m)\u001b[0m\u001b[1;33m,\u001b[0m \u001b[0mweights\u001b[0m\u001b[1;33m=\u001b[0m\u001b[0mw\u001b[0m\u001b[1;33m)\u001b[0m\u001b[1;33m\u001b[0m\u001b[1;33m\u001b[0m\u001b[0m\n\u001b[0;32m    698\u001b[0m     \u001b[0mvv\u001b[0m \u001b[1;33m=\u001b[0m \u001b[0mnp\u001b[0m\u001b[1;33m.\u001b[0m\u001b[0maverage\u001b[0m\u001b[1;33m(\u001b[0m\u001b[0mnp\u001b[0m\u001b[1;33m.\u001b[0m\u001b[0msquare\u001b[0m\u001b[1;33m(\u001b[0m\u001b[0mv\u001b[0m\u001b[1;33m)\u001b[0m\u001b[1;33m,\u001b[0m \u001b[0mweights\u001b[0m\u001b[1;33m=\u001b[0m\u001b[0mw\u001b[0m\u001b[1;33m)\u001b[0m\u001b[1;33m\u001b[0m\u001b[1;33m\u001b[0m\u001b[0m\n",
      "\u001b[1;31mUFuncTypeError\u001b[0m: ufunc 'multiply' did not contain a loop with signature matching types (dtype('<U5'), dtype('<U5')) -> dtype('<U5')"
     ]
    }
   ],
   "source": [
    "from scipy import spatial\n",
    "List1 = ['temp']\n",
    "List2 = ['humid']\n",
    "result = 1 - spatial.distance.cosine(List1, List2)\n",
    "print(result)"
   ]
  },
  {
   "cell_type": "code",
   "execution_count": 30,
   "id": "540a6712",
   "metadata": {},
   "outputs": [
    {
     "name": "stdout",
     "output_type": "stream",
     "text": [
      "x 0    123\n",
      "1    126\n",
      "2    124\n",
      "3    122\n",
      "4    124\n",
      "5    124\n",
      "Name: temp, dtype: int64\n",
      "y 0    23\n",
      "1    23\n",
      "2    25\n",
      "3    23\n",
      "4    26\n",
      "5    22\n",
      "Name: humid, dtype: int64\n",
      "dist1 245.39559898254083\n",
      "dist2 245.39559898254083\n"
     ]
    }
   ],
   "source": [
    "import numpy as np\n",
    "\n",
    "\n",
    "\n",
    "# solution1\n",
    "dist1 = np.linalg.norm( x - y )\n",
    "\n",
    "# solution2\n",
    "dist2 = np.sqrt(np.sum(np.square(x - y)))  \n",
    "\n",
    "print('x',x)\n",
    "print('y',y)\n",
    "print('dist1',dist1)\n",
    "print('dist2',dist2)"
   ]
  },
  {
   "cell_type": "code",
   "execution_count": null,
   "id": "173867af",
   "metadata": {},
   "outputs": [],
   "source": []
  },
  {
   "cell_type": "code",
   "execution_count": null,
   "id": "aa57ef63",
   "metadata": {},
   "outputs": [],
   "source": []
  }
 ],
 "metadata": {
  "kernelspec": {
   "display_name": "Python 3 (ipykernel)",
   "language": "python",
   "name": "python3"
  },
  "language_info": {
   "codemirror_mode": {
    "name": "ipython",
    "version": 3
   },
   "file_extension": ".py",
   "mimetype": "text/x-python",
   "name": "python",
   "nbconvert_exporter": "python",
   "pygments_lexer": "ipython3",
   "version": "3.9.7"
  }
 },
 "nbformat": 4,
 "nbformat_minor": 5
}
